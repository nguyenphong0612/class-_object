{
 "cells": [
  {
   "cell_type": "code",
   "execution_count": null,
   "id": "a42fa0c7",
   "metadata": {},
   "outputs": [],
   "source": [
    "\"\"\"\n",
    "Tạo class có tên Equation gồm có các thuộc tính và phương thức sau:\n",
    "+ Thuộc tính: number1, number2\n",
    "+ Phương thức:\n",
    "- Phương thức tạo __init()__\n",
    "- print_info(): dùng để hiển thị number1, number2\n",
    "- add(): dùng để cộng number1, number2\n",
    "- subtract(): trừ number1, number2\n",
    "- multiply(): dùng để nhân number1, number2\n",
    "- divide(): dùng để chia number1, number2.\n",
    "\n",
    "Sau khi tạo class, khởi tạo một object Equation và in ra kết quả tính toán từ các hàm thực hiện phép tính\n",
    "\"\"\""
   ]
  },
  {
   "cell_type": "code",
   "execution_count": 43,
   "id": "02b47fcc",
   "metadata": {},
   "outputs": [],
   "source": [
    "class Equation:\n",
    "    def __init__(self, num1, num2):\n",
    "        self.x = num1\n",
    "        self.y = num2\n",
    "        #return f\"num1: {self.x}; num2: {self.y}\"\n",
    "    def info(self):\n",
    "        return f\"num1 is {self.x}; num2 is {self.y}\"\n",
    "    def add(self):\n",
    "        result_ad = self.x + self.y\n",
    "        return f\"result of add is {result_ad}\"\n",
    "    def subtract(self):\n",
    "        result_sub = self.x - self.y\n",
    "        return f\"result of subtract is {result_sub}\"\n",
    "    def multiply(self):\n",
    "        result_mul = self.x*self.y\n",
    "        return f\"result of multiply is {result_mul}\"\n",
    "    def divide(self):\n",
    "        result_div = self.x/self.y\n",
    "        return f\"result of divide is {result_div}\"\n",
    "\n",
    "\n",
    "   \n",
    "    \n",
    "        "
   ]
  },
  {
   "cell_type": "code",
   "execution_count": 42,
   "id": "cf4c1396",
   "metadata": {},
   "outputs": [
    {
     "name": "stdout",
     "output_type": "stream",
     "text": [
      "num1 is 4; num2 is 5\n",
      "result of add is 9\n",
      "result of subtract is -1\n",
      "result of multiply is 20\n",
      "result of divide is 0.8\n"
     ]
    }
   ],
   "source": [
    "a = Equation(4, 5)\n",
    "print(a.info())\n",
    "print(a.add())\n",
    "print(a.subtract())\n",
    "print(a.multiply())\n",
    "print(a.divide())"
   ]
  }
 ],
 "metadata": {
  "kernelspec": {
   "display_name": "Python 3 (ipykernel)",
   "language": "python",
   "name": "python3"
  },
  "language_info": {
   "codemirror_mode": {
    "name": "ipython",
    "version": 3
   },
   "file_extension": ".py",
   "mimetype": "text/x-python",
   "name": "python",
   "nbconvert_exporter": "python",
   "pygments_lexer": "ipython3",
   "version": "3.12.2"
  }
 },
 "nbformat": 4,
 "nbformat_minor": 5
}
