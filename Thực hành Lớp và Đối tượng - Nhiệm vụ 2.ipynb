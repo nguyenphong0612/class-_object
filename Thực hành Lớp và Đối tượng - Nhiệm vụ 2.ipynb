{
 "cells": [
  {
   "cell_type": "code",
   "execution_count": null,
   "id": "1b7705b3",
   "metadata": {},
   "outputs": [],
   "source": [
    "\"\"\"\n",
    "Viết class NhanVien gồm các thuộc tính:\n",
    "+ Tên\n",
    "+ Tuổi\n",
    "+ Địa chỉ\n",
    "+ Tiền lương\n",
    "+ Tổng số giờ làm\n",
    "\n",
    "Và các phương thức:\n",
    "- Phương thức __init__()\n",
    "- print_info() : In ra tất cả các thông tin của nhân viên\n",
    "- tinh_thuong(): Tính toán và trả về số tiền thưởng của nhân viên theo công thức sau:\n",
    "Nếu tổng số giờ làm của nhân viên >=200 thì thưởng = lương * 20%\n",
    "Nếu tổng số giờ làm của nhân viên <200 và >=100 thì thưởng = lương * 10%\n",
    "Nếu tổng số giờ làm của nhân viên <100 thì thưởng = 0\n",
    "\"\"\""
   ]
  },
  {
   "cell_type": "code",
   "execution_count": 22,
   "id": "3cf0f41d",
   "metadata": {},
   "outputs": [],
   "source": [
    "class NhanVien:\n",
    "    def __init__(self, name, age, address, salary, total_worktime):\n",
    "        self.name = name\n",
    "        self.age = age\n",
    "        self.add = address\n",
    "        self.salary = salary\n",
    "        self.total_worktime = total_worktime\n",
    "    def info(self):\n",
    "        print(f\"        my name is {self.name}\\n\\\n",
    "        I'm {self.age} years old\\n\\\n",
    "        Address: {self.add}\\n\\\n",
    "        Salary: {self.salary} k vnd\\n\\\n",
    "        total worktime: {self.total_worktime}\")\n",
    "    def cal_bonus(self):\n",
    "        bonus = (self.salary/5)if self.total_worktime>=200\\\n",
    "                else (self.salary/10)if self.total_worktime>=100\\\n",
    "                else 0\n",
    "        print(f\"        {self.name}'s bonus is {bonus} k vnd\\n\\\n",
    "        Total salary of {self.name} is {self.salary+bonus}\")"
   ]
  },
  {
   "cell_type": "code",
   "execution_count": 24,
   "id": "4b103a1a",
   "metadata": {},
   "outputs": [
    {
     "name": "stdout",
     "output_type": "stream",
     "text": [
      "        my name is Nguyen Trung Phong\n",
      "        I'm 44 years old\n",
      "        Address: P2505-CT8B\n",
      "        Salary: 20000 k vnd\n",
      "        total worktime: 250\n",
      "        Nguyen Trung Phong's bonus is 4000.0 k vnd\n",
      "        Total salary of Nguyen Trung Phong is 24000.0\n"
     ]
    }
   ],
   "source": [
    "a = NhanVien(\"Nguyen Trung Phong\", 44, \"P2505-CT8B\", 20000, 250)\n",
    "a.info()\n",
    "a.cal_bonus()"
   ]
  }
 ],
 "metadata": {
  "kernelspec": {
   "display_name": "Python 3 (ipykernel)",
   "language": "python",
   "name": "python3"
  },
  "language_info": {
   "codemirror_mode": {
    "name": "ipython",
    "version": 3
   },
   "file_extension": ".py",
   "mimetype": "text/x-python",
   "name": "python",
   "nbconvert_exporter": "python",
   "pygments_lexer": "ipython3",
   "version": "3.12.2"
  }
 },
 "nbformat": 4,
 "nbformat_minor": 5
}
